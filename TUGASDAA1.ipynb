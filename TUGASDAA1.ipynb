{
  "nbformat": 4,
  "nbformat_minor": 0,
  "metadata": {
    "colab": {
      "provenance": [],
      "authorship_tag": "ABX9TyNRwLlysHlfWxFSmGQx/ugJ",
      "include_colab_link": true
    },
    "kernelspec": {
      "name": "python3",
      "display_name": "Python 3"
    },
    "language_info": {
      "name": "python"
    }
  },
  "cells": [
    {
      "cell_type": "markdown",
      "metadata": {
        "id": "view-in-github",
        "colab_type": "text"
      },
      "source": [
        "<a href=\"https://colab.research.google.com/github/FarelRifasha/pengumpulan-DAA/blob/main/TUGASDAA1.ipynb\" target=\"_parent\"><img src=\"https://colab.research.google.com/assets/colab-badge.svg\" alt=\"Open In Colab\"/></a>"
      ]
    },
    {
      "cell_type": "code",
      "execution_count": null,
      "metadata": {
        "colab": {
          "base_uri": "https://localhost:8080/"
        },
        "id": "ATVbbOVSlHtI",
        "outputId": "5cdceaa4-3cec-4e14-cfda-18b2795e0bd0"
      },
      "outputs": [
        {
          "output_type": "stream",
          "name": "stdout",
          "text": [
            "['John', 33, 'Toronto', True]\n"
          ]
        }
      ],
      "source": [
        "aList = [\"John\", 33, \"Toronto\", True]\n",
        "print(aList)"
      ]
    },
    {
      "cell_type": "code",
      "source": [
        "# Mengimpor modul datetime untuk mendapatkan tanggal hari ini\n",
        "import datetime\n",
        "\n",
        "# --- Latihan 1 (dari halaman 6) ---\n",
        "# Membuat list \"Mahasiswa\" dengan informasi yang diminta.\n",
        "# Urutan: [nama, NIM, prodi, mata kuliah, tanggal hari ini, nama universitas]\n",
        "\n",
        "# Mendapatkan tanggal hari ini dan memformatnya sebagai string\n",
        "tanggal_hari_ini = datetime.date.today().strftime('%Y-%m-%d')\n",
        "\n",
        "# Membuat list Mahasiswa\n",
        "mahasiswa = [\n",
        "    \"Farel Rifasha\",\n",
        "    \"2024071016\",\n",
        "    \"Informatika\",\n",
        "    \"DAA\",\n",
        "    tanggal_hari_ini,\n",
        "    \"Universitas Pembangunan Jaya\"\n",
        "]\n",
        "\n",
        "# Menampilkan seluruh isi list \"Mahasiswa\"\n",
        "print(\"--- Hasil Latihan 1 ---\")\n",
        "print(\"Isi lengkap list Mahasiswa:\")\n",
        "print(mahasiswa)\n",
        "print(\"-\" * 25) # Pemisah agar rapi\n",
        "\n",
        "# --- Latihan 2 (dari halaman 8) ---\n",
        "# Mencetak NIM dengan memanggil urutan indeksnya.\n",
        "# NIM berada di indeks ke-1 (elemen kedua).\n",
        "print(\"\\n--- Hasil Latihan 2 ---\")\n",
        "print(\"NIM Mahasiswa:\")\n",
        "print(mahasiswa[1])\n",
        "print(\"-\" * 25) # Pemisah agar rapi\n",
        "\n",
        "# --- Latihan 3 (dari halaman 9) ---\n",
        "# Mencetak nama universitas dengan memanggil urutan indeksnya.\n",
        "# Nama universitas berada di indeks ke-5 (elemen terakhir).\n",
        "print(\"\\n--- Hasil Latihan 3 ---\")\n",
        "print(\"Nama Universitas:\")\n",
        "print(mahasiswa[5])\n",
        "print(\"-\" * 25) # Pemisah agar rapi"
      ],
      "outputs": [
        {
          "output_type": "stream",
          "name": "stdout",
          "text": [
            "--- Hasil Latihan 1 ---\n",
            "Isi lengkap list Mahasiswa:\n",
            "['Farel Rifasha', '2024071016', 'Informatika', 'DAA', '2025-09-15', 'Universitas Pembangunan Jaya']\n",
            "-------------------------\n",
            "\n",
            "--- Hasil Latihan 2 ---\n",
            "NIM Mahasiswa:\n",
            "2024071016\n",
            "-------------------------\n",
            "\n",
            "--- Hasil Latihan 3 ---\n",
            "Nama Universitas:\n",
            "Universitas Pembangunan Jaya\n",
            "-------------------------\n"
          ]
        }
      ],
      "execution_count": null,
      "metadata": {
        "colab": {
          "base_uri": "https://localhost:8080/"
        },
        "id": "8L5wk52Ln-s5",
        "outputId": "09b33dfe-d43a-421c-f947-685b9dfaecbd"
      }
    },
    {
      "cell_type": "code",
      "source": [
        "from datetime import date\n",
        "tgl_v1 = date.today()\n",
        "print(tgl_v1)\n",
        "\n",
        "import datetime as vDate\n",
        "hari = vDate.date.day\n",
        "\n",
        "tanggal = vDate.date.today()\n",
        "print(hari)\n",
        "print(tanggal)\n",
        "\n",
        "mahasiswa = [\"Farel\", \"2024071016\", \"Informatika\", \"DAA\", f\"{tanggal.day}-{tanggal.month}-{tanggal.year}\", \"Universitas Pembangunan Jaya\"]\n",
        "print(mahasiswa)"
      ],
      "metadata": {
        "colab": {
          "base_uri": "https://localhost:8080/"
        },
        "id": "l5V1Q1l8ulOe",
        "outputId": "be0a0b0b-2fb8-4a78-8f97-d08622ddb8bc"
      },
      "execution_count": 5,
      "outputs": [
        {
          "output_type": "stream",
          "name": "stdout",
          "text": [
            "2025-09-15\n",
            "<attribute 'day' of 'datetime.date' objects>\n",
            "2025-09-15\n",
            "['Farel', '2024071016', 'Informatika', 'DAA', '15-9-2025', 'Universitas Pembangunan Jaya']\n"
          ]
        }
      ]
    },
    {
      "cell_type": "code",
      "source": [
        "print(\"NIM \", mahasiswa[1])\n",
        "print(\"Kampus \", mahasiswa[5])"
      ],
      "metadata": {
        "colab": {
          "base_uri": "https://localhost:8080/"
        },
        "id": "YS0DX6DwvkaB",
        "outputId": "c7e22802-d58d-4048-a0d5-b5f59aa2a8de"
      },
      "execution_count": 6,
      "outputs": [
        {
          "output_type": "stream",
          "name": "stdout",
          "text": [
            "NIM  2024071016\n",
            "Kampus  Universitas Pembangunan Jaya\n"
          ]
        }
      ]
    },
    {
      "cell_type": "code",
      "source": [
        "print(\"NIM \", mahasiswa[1:2])"
      ],
      "metadata": {
        "colab": {
          "base_uri": "https://localhost:8080/"
        },
        "id": "DfOqDL1kvopg",
        "outputId": "ddb2cc42-1f42-4255-f2e8-0d9973826834"
      },
      "execution_count": 7,
      "outputs": [
        {
          "output_type": "stream",
          "name": "stdout",
          "text": [
            "NIM  ['2024071016']\n"
          ]
        }
      ]
    },
    {
      "cell_type": "code",
      "source": [
        "print(\"Prodi \", mahasiswa[2:3])"
      ],
      "metadata": {
        "colab": {
          "base_uri": "https://localhost:8080/"
        },
        "id": "lvbn9newvrz_",
        "outputId": "bdc24f86-d134-4745-e202-0fa6219ba93a"
      },
      "execution_count": 8,
      "outputs": [
        {
          "output_type": "stream",
          "name": "stdout",
          "text": [
            "Prodi  ['Informatika']\n"
          ]
        }
      ]
    },
    {
      "cell_type": "code",
      "source": [
        "print(\"Prodi \", mahasiswa[1:3])"
      ],
      "metadata": {
        "colab": {
          "base_uri": "https://localhost:8080/"
        },
        "id": "LbR1JWBUvumm",
        "outputId": "e64f418b-14b5-4ab9-e364-6fa5c150d4e4"
      },
      "execution_count": 11,
      "outputs": [
        {
          "output_type": "stream",
          "name": "stdout",
          "text": [
            "Prodi  ['2024071016', 'Informatika']\n"
          ]
        }
      ]
    },
    {
      "cell_type": "code",
      "source": [
        "bin_colors = ['Red', 'Green', 'Blue', 'Yellow']\n",
        "print(bin_colors[0] + \" square\")\n",
        "print(bin_colors[1] + \" square\")\n",
        "print(bin_colors[2] + \" square\")\n",
        "print(bin_colors[3] + \" square\")\n",
        "\n",
        "for aColor in bin_colors:\n",
        "  print(aColor)"
      ],
      "metadata": {
        "colab": {
          "base_uri": "https://localhost:8080/"
        },
        "id": "xIVQQD1ezMFY",
        "outputId": "a01914d6-5ee4-4d7b-e1e2-9f05c7954a27"
      },
      "execution_count": 12,
      "outputs": [
        {
          "output_type": "stream",
          "name": "stdout",
          "text": [
            "Red square\n",
            "Green square\n",
            "Blue square\n",
            "Yellow square\n",
            "Red\n",
            "Green\n",
            "Blue\n",
            "Yellow\n"
          ]
        }
      ]
    },
    {
      "cell_type": "code",
      "source": [
        "upj = (\"universitas\",\"pembangunan\",\"jaya\")\n",
        "print (upj)"
      ],
      "metadata": {
        "colab": {
          "base_uri": "https://localhost:8080/"
        },
        "id": "3_rah1QxzPH1",
        "outputId": "b04358e6-ca9f-453a-af4a-0b166f68d19f"
      },
      "execution_count": 13,
      "outputs": [
        {
          "output_type": "stream",
          "name": "stdout",
          "text": [
            "('universitas', 'pembangunan', 'jaya')\n"
          ]
        }
      ]
    },
    {
      "cell_type": "code",
      "source": [
        "nested_tuple = (100, (200, 400, 600), 300, (400, 800))\n",
        "print (nested_tuple)"
      ],
      "metadata": {
        "colab": {
          "base_uri": "https://localhost:8080/"
        },
        "id": "rBybhcXUzSIX",
        "outputId": "e5795258-52d0-4740-bfde-e1312fc215a7"
      },
      "execution_count": 14,
      "outputs": [
        {
          "output_type": "stream",
          "name": "stdout",
          "text": [
            "(100, (200, 400, 600), 300, (400, 800))\n"
          ]
        }
      ]
    },
    {
      "cell_type": "code",
      "source": [
        "for item in mahasiswa:\n",
        "  print(\"UPJ\", item)"
      ],
      "metadata": {
        "colab": {
          "base_uri": "https://localhost:8080/"
        },
        "id": "iUu2vA_3zWPV",
        "outputId": "8a37fac5-cf52-4575-bfd9-1430dcdd9df2"
      },
      "execution_count": 15,
      "outputs": [
        {
          "output_type": "stream",
          "name": "stdout",
          "text": [
            "UPJ Farel\n",
            "UPJ 2024071016\n",
            "UPJ Informatika\n",
            "UPJ DAA\n",
            "UPJ 15-9-2025\n",
            "UPJ Universitas Pembangunan Jaya\n"
          ]
        }
      ]
    }
  ]
}