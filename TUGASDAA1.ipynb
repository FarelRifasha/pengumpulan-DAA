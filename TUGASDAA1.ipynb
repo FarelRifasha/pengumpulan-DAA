{
  "nbformat": 4,
  "nbformat_minor": 0,
  "metadata": {
    "colab": {
      "provenance": [],
      "authorship_tag": "ABX9TyPanGL9chVAmcMY+CfWlRVb",
      "include_colab_link": true
    },
    "kernelspec": {
      "name": "python3",
      "display_name": "Python 3"
    },
    "language_info": {
      "name": "python"
    }
  },
  "cells": [
    {
      "cell_type": "markdown",
      "metadata": {
        "id": "view-in-github",
        "colab_type": "text"
      },
      "source": [
        "<a href=\"https://colab.research.google.com/github/FarelRifasha/pengumpulan-DAA/blob/main/TUGASDAA1.ipynb\" target=\"_parent\"><img src=\"https://colab.research.google.com/assets/colab-badge.svg\" alt=\"Open In Colab\"/></a>"
      ]
    },
    {
      "cell_type": "code",
      "execution_count": 1,
      "metadata": {
        "colab": {
          "base_uri": "https://localhost:8080/"
        },
        "id": "ATVbbOVSlHtI",
        "outputId": "5cdceaa4-3cec-4e14-cfda-18b2795e0bd0"
      },
      "outputs": [
        {
          "output_type": "stream",
          "name": "stdout",
          "text": [
            "['John', 33, 'Toronto', True]\n"
          ]
        }
      ],
      "source": [
        "aList = [\"John\", 33, \"Toronto\", True]\n",
        "print(aList)"
      ]
    },
    {
      "cell_type": "code",
      "source": [
        "# Mengimpor modul datetime untuk mendapatkan tanggal hari ini\n",
        "import datetime\n",
        "\n",
        "# --- Latihan 1 (dari halaman 6) ---\n",
        "# Membuat list \"Mahasiswa\" dengan informasi yang diminta.\n",
        "# Urutan: [nama, NIM, prodi, mata kuliah, tanggal hari ini, nama universitas]\n",
        "\n",
        "# Mendapatkan tanggal hari ini dan memformatnya sebagai string\n",
        "tanggal_hari_ini = datetime.date.today().strftime('%Y-%m-%d')\n",
        "\n",
        "# Membuat list Mahasiswa\n",
        "mahasiswa = [\n",
        "    \"Farel Rifasha\",\n",
        "    \"2024071016\",\n",
        "    \"Informatika\",\n",
        "    \"DAA\",\n",
        "    tanggal_hari_ini,\n",
        "    \"Universitas Pembangunan Jaya\"\n",
        "]\n",
        "\n",
        "# Menampilkan seluruh isi list \"Mahasiswa\"\n",
        "print(\"--- Hasil Latihan 1 ---\")\n",
        "print(\"Isi lengkap list Mahasiswa:\")\n",
        "print(mahasiswa)\n",
        "print(\"-\" * 25) # Pemisah agar rapi\n",
        "\n",
        "# --- Latihan 2 (dari halaman 8) ---\n",
        "# Mencetak NIM dengan memanggil urutan indeksnya.\n",
        "# NIM berada di indeks ke-1 (elemen kedua).\n",
        "print(\"\\n--- Hasil Latihan 2 ---\")\n",
        "print(\"NIM Mahasiswa:\")\n",
        "print(mahasiswa[1])\n",
        "print(\"-\" * 25) # Pemisah agar rapi\n",
        "\n",
        "# --- Latihan 3 (dari halaman 9) ---\n",
        "# Mencetak nama universitas dengan memanggil urutan indeksnya.\n",
        "# Nama universitas berada di indeks ke-5 (elemen terakhir).\n",
        "print(\"\\n--- Hasil Latihan 3 ---\")\n",
        "print(\"Nama Universitas:\")\n",
        "print(mahasiswa[5])\n",
        "print(\"-\" * 25) # Pemisah agar rapi"
      ],
      "outputs": [
        {
          "output_type": "stream",
          "name": "stdout",
          "text": [
            "--- Hasil Latihan 1 ---\n",
            "Isi lengkap list Mahasiswa:\n",
            "['Farel Rifasha', '2024071016', 'Informatika', 'DAA', '2025-09-15', 'Universitas Pembangunan Jaya']\n",
            "-------------------------\n",
            "\n",
            "--- Hasil Latihan 2 ---\n",
            "NIM Mahasiswa:\n",
            "2024071016\n",
            "-------------------------\n",
            "\n",
            "--- Hasil Latihan 3 ---\n",
            "Nama Universitas:\n",
            "Universitas Pembangunan Jaya\n",
            "-------------------------\n"
          ]
        }
      ],
      "execution_count": 3,
      "metadata": {
        "colab": {
          "base_uri": "https://localhost:8080/"
        },
        "id": "8L5wk52Ln-s5",
        "outputId": "09b33dfe-d43a-421c-f947-685b9dfaecbd"
      }
    }
  ]
}