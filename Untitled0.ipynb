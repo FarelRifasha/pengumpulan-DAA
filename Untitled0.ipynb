{
  "nbformat": 4,
  "nbformat_minor": 0,
  "metadata": {
    "colab": {
      "provenance": [],
      "toc_visible": true,
      "authorship_tag": "ABX9TyMuSnJ6GtEu1Gl8ORZrt1ah",
      "include_colab_link": true
    },
    "kernelspec": {
      "name": "python3",
      "display_name": "Python 3"
    },
    "language_info": {
      "name": "python"
    }
  },
  "cells": [
    {
      "cell_type": "markdown",
      "metadata": {
        "id": "view-in-github",
        "colab_type": "text"
      },
      "source": [
        "<a href=\"https://colab.research.google.com/github/FarelRifasha/pengumpulan-DAA/blob/main/Untitled0.ipynb\" target=\"_parent\"><img src=\"https://colab.research.google.com/assets/colab-badge.svg\" alt=\"Open In Colab\"/></a>"
      ]
    },
    {
      "cell_type": "code",
      "execution_count": null,
      "metadata": {
        "colab": {
          "base_uri": "https://localhost:8080/"
        },
        "id": "EW5ETTCpoMGW",
        "outputId": "a6222d1c-2f6d-4ac4-89e4-74e3187f4682"
      },
      "outputs": [
        {
          "output_type": "stream",
          "name": "stdout",
          "text": [
            "[1, 2, 3, 4, 5, 6]\n"
          ]
        }
      ],
      "source": [
        "# Terdapat list a dan b\n",
        "a = [1, 2, 3]\n",
        "b = [4, 5, 6]\n",
        "\n",
        "# Lalu jumlahkan\n",
        "hasil = a + b\n",
        "\n",
        "# Cetak hasilnya\n",
        "print(hasil)"
      ]
    },
    {
      "cell_type": "code",
      "source": [
        "# Terdapat list a dan b\n",
        "a = [1, 2, 3]\n",
        "b = [4, 5, 6]\n",
        "\n",
        "# Jumlahkan seluruh elemen dari kedua list\n",
        "hasil = sum(a) + sum(b)\n",
        "\n",
        "# Cetak hasil\n",
        "print(hasil)"
      ],
      "metadata": {
        "colab": {
          "base_uri": "https://localhost:8080/"
        },
        "id": "xR9zfTKHqV7I",
        "outputId": "fec15102-9ce5-4a6d-fa6a-5052f9167b6a"
      },
      "execution_count": null,
      "outputs": [
        {
          "output_type": "stream",
          "name": "stdout",
          "text": [
            "21\n"
          ]
        }
      ]
    },
    {
      "cell_type": "code",
      "source": [
        "# terdapat list a dan b\n",
        "a = [1, 2, 3]\n",
        "b = [4, 5, 6]\n",
        "\n",
        "# lalu jumlahkan\n",
        "hasil = sum(a) + sum(b)\n",
        "print(hasil)  # [1, 2, 3, 4, 5, 6]\n",
        "\n",
        "def add(list_a, list_b):\n",
        "    result = []\n",
        "    for first, second in zip(list_a, list_b):\n",
        "        result.append(first + second)\n",
        "    return result\n"
      ],
      "metadata": {
        "colab": {
          "base_uri": "https://localhost:8080/"
        },
        "id": "bV1VbVwJrk5o",
        "outputId": "6b1c485c-b917-4d00-a201-28c8d11c3506"
      },
      "execution_count": null,
      "outputs": [
        {
          "output_type": "stream",
          "name": "stdout",
          "text": [
            "21\n"
          ]
        }
      ]
    },
    {
      "cell_type": "code",
      "source": [
        "# terdapat list a dan b\n",
        "a = [1, 2, 3]\n",
        "b = [4, 5, 6]\n",
        "\n",
        "# lalu jumlahkan\n",
        "hasil = (a) + (b)\n",
        "print(hasil)  # [1, 2, 3, 4, 5, 6]\n",
        "\n",
        "def add(list_a, list_b):\n",
        "    result = []\n",
        "    for first, second in zip(list_a, list_b):\n",
        "        result.append(first + second)\n",
        "    return result"
      ],
      "metadata": {
        "colab": {
          "base_uri": "https://localhost:8080/"
        },
        "id": "TW1LGrrlxZzd",
        "outputId": "2bffacb7-d9e4-4e5c-e87f-213185dbd60b"
      },
      "execution_count": null,
      "outputs": [
        {
          "output_type": "stream",
          "name": "stdout",
          "text": [
            "[1, 2, 3, 4, 5, 6]\n"
          ]
        }
      ]
    },
    {
      "cell_type": "code",
      "source": [
        " import numpy as np\n",
        " # membuat array\n",
        " nilai_siswa = np.array([85, 55, 40, 90])\n",
        " # mengakses data pada array\n",
        " print(nilai_siswa[3])"
      ],
      "metadata": {
        "colab": {
          "base_uri": "https://localhost:8080/"
        },
        "id": "ewiT3tDBt1wP",
        "outputId": "f244dbd4-eb9e-49f8-cc6c-451064399be7"
      },
      "execution_count": null,
      "outputs": [
        {
          "output_type": "stream",
          "name": "stdout",
          "text": [
            "90\n"
          ]
        }
      ]
    },
    {
      "cell_type": "code",
      "source": [
        "print(\"Hello, World!\")\n",
        "print(\"Nama saya (Farel Rifasha)\")\n",
        "print(\"NIM saya (2024071016)\")\n"
      ],
      "metadata": {
        "colab": {
          "base_uri": "https://localhost:8080/"
        },
        "id": "dLbyQbrx0dys",
        "outputId": "a2c139ba-b59d-427b-95f9-4b7ba7d35f33"
      },
      "execution_count": null,
      "outputs": [
        {
          "output_type": "stream",
          "name": "stdout",
          "text": [
            "Hello, World!\n",
            "Nama saya (Farel Rifasha)\n",
            "NIM saya (2024071016)\n"
          ]
        }
      ]
    },
    {
      "cell_type": "code",
      "source": [
        "if 5>2:\n",
        " print(\"Five is greater than two!\")\n"
      ],
      "metadata": {
        "colab": {
          "base_uri": "https://localhost:8080/"
        },
        "id": "epHvpVm60qdb",
        "outputId": "ec41b4c9-b92a-4296-e1c5-1b05bcac4c4a"
      },
      "execution_count": null,
      "outputs": [
        {
          "output_type": "stream",
          "name": "stdout",
          "text": [
            "Five is greater than two!\n"
          ]
        }
      ]
    }
  ]
}